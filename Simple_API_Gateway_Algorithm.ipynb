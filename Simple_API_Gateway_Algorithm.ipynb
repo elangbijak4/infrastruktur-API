{
  "nbformat": 4,
  "nbformat_minor": 0,
  "metadata": {
    "colab": {
      "provenance": [],
      "authorship_tag": "ABX9TyMGou3xfF8FxGdPQCkDzfpT",
      "include_colab_link": true
    },
    "kernelspec": {
      "name": "python3",
      "display_name": "Python 3"
    },
    "language_info": {
      "name": "python"
    }
  },
  "cells": [
    {
      "cell_type": "markdown",
      "metadata": {
        "id": "view-in-github",
        "colab_type": "text"
      },
      "source": [
        "<a href=\"https://colab.research.google.com/github/elangbijak4/infrastruktur-API/blob/main/Simple_API_Gateway_Algorithm.ipynb\" target=\"_parent\"><img src=\"https://colab.research.google.com/assets/colab-badge.svg\" alt=\"Open In Colab\"/></a>"
      ]
    },
    {
      "cell_type": "code",
      "execution_count": 1,
      "metadata": {
        "colab": {
          "base_uri": "https://localhost:8080/"
        },
        "id": "5pRq5MMJMHMS",
        "outputId": "14e90cbc-e4a2-4881-e8d2-da5d19e9bb02"
      },
      "outputs": [
        {
          "output_type": "stream",
          "name": "stdout",
          "text": [
            "Requirement already satisfied: flask in /usr/local/lib/python3.10/dist-packages (3.1.0)\n",
            "Requirement already satisfied: Werkzeug>=3.1 in /usr/local/lib/python3.10/dist-packages (from flask) (3.1.3)\n",
            "Requirement already satisfied: Jinja2>=3.1.2 in /usr/local/lib/python3.10/dist-packages (from flask) (3.1.5)\n",
            "Requirement already satisfied: itsdangerous>=2.2 in /usr/local/lib/python3.10/dist-packages (from flask) (2.2.0)\n",
            "Requirement already satisfied: click>=8.1.3 in /usr/local/lib/python3.10/dist-packages (from flask) (8.1.8)\n",
            "Requirement already satisfied: blinker>=1.9 in /usr/local/lib/python3.10/dist-packages (from flask) (1.9.0)\n",
            "Requirement already satisfied: MarkupSafe>=2.0 in /usr/local/lib/python3.10/dist-packages (from Jinja2>=3.1.2->flask) (3.0.2)\n"
          ]
        }
      ],
      "source": [
        "!pip install flask"
      ]
    },
    {
      "cell_type": "code",
      "source": [
        "from flask import Flask, request, jsonify\n",
        "from functools import wraps\n",
        "import time"
      ],
      "metadata": {
        "id": "vL7zAc20MTmH"
      },
      "execution_count": 2,
      "outputs": []
    },
    {
      "cell_type": "code",
      "source": [
        "# Initialize Flask app\n",
        "app = Flask(__name__)"
      ],
      "metadata": {
        "id": "y_VeVhHbMgQJ"
      },
      "execution_count": 3,
      "outputs": []
    },
    {
      "cell_type": "code",
      "source": [
        "# In-memory storage for rate limiting (IP-based)\n",
        "rate_limit_storage = {}\n",
        "RATE_LIMIT = 5  # Max requests per minute per IP\n",
        "API_KEY = \"valid_api_key_12345\"  # Example API Key"
      ],
      "metadata": {
        "id": "N6X_U8qBMjM0"
      },
      "execution_count": 4,
      "outputs": []
    },
    {
      "cell_type": "code",
      "source": [
        "# Middleware for rate limiting\n",
        "def rate_limiter(f):\n",
        "    @wraps(f)\n",
        "    def decorated_function(*args, **kwargs):\n",
        "        client_ip = request.remote_addr\n",
        "        current_time = time.time()\n",
        "\n",
        "        if client_ip not in rate_limit_storage:\n",
        "            rate_limit_storage[client_ip] = []\n",
        "\n",
        "        # Remove timestamps older than 1 minute\n",
        "        rate_limit_storage[client_ip] = [t for t in rate_limit_storage[client_ip] if current_time - t < 60]\n",
        "\n",
        "        if len(rate_limit_storage[client_ip]) >= RATE_LIMIT:\n",
        "            return jsonify({\"error\": \"Rate limit exceeded. Try again later.\"}), 429\n",
        "\n",
        "        rate_limit_storage[client_ip].append(current_time)\n",
        "        return f(*args, **kwargs)\n",
        "\n",
        "    return decorated_function"
      ],
      "metadata": {
        "id": "CzNN26rgMmIj"
      },
      "execution_count": 5,
      "outputs": []
    },
    {
      "cell_type": "code",
      "source": [
        "# Middleware for API Key validation\n",
        "def require_api_key(f):\n",
        "    @wraps(f)\n",
        "    def decorated_function(*args, **kwargs):\n",
        "        api_key = request.headers.get(\"X-API-Key\")\n",
        "        if api_key != API_KEY:\n",
        "            return jsonify({\"error\": \"Invalid or missing API Key.\"}), 401\n",
        "        return f(*args, **kwargs)\n",
        "\n",
        "    return decorated_function"
      ],
      "metadata": {
        "id": "wIeypwuJMqn9"
      },
      "execution_count": 6,
      "outputs": []
    },
    {
      "cell_type": "code",
      "source": [
        "# Backend services\n",
        "@app.route(\"/service-a\", methods=[\"GET\"])\n",
        "def service_a():\n",
        "    return jsonify({\"message\": \"Welcome to Service A!\"})\n",
        "\n",
        "@app.route(\"/service-b\", methods=[\"POST\"])\n",
        "def service_b():\n",
        "    data = request.json\n",
        "    transformed_data = {\"received\": data, \"processed\": True}\n",
        "    return jsonify(transformed_data)"
      ],
      "metadata": {
        "id": "k5KwXwUfMvRg"
      },
      "execution_count": 7,
      "outputs": []
    },
    {
      "cell_type": "code",
      "source": [
        "# API Gateway\n",
        "@app.route(\"/api/<service>\", methods=[\"GET\", \"POST\"])\n",
        "@rate_limiter\n",
        "@require_api_key\n",
        "def api_gateway(service):\n",
        "    if service == \"service-a\":\n",
        "        return service_a()\n",
        "    elif service == \"service-b\":\n",
        "        return service_b()\n",
        "    else:\n",
        "        return jsonify({\"error\": \"Service not found.\"}), 404"
      ],
      "metadata": {
        "id": "LDLkbshRM5kh"
      },
      "execution_count": 8,
      "outputs": []
    },
    {
      "cell_type": "code",
      "source": [
        "# Logging all requests\n",
        "@app.before_request\n",
        "def log_request():\n",
        "    print(f\"Incoming request: {request.method} {request.path} from {request.remote_addr}\")"
      ],
      "metadata": {
        "id": "vYS-e71JM7-W"
      },
      "execution_count": 9,
      "outputs": []
    },
    {
      "cell_type": "code",
      "source": [
        "# Run the Flask app\n",
        "if __name__ == \"__main__\":\n",
        "    app.run(host=\"0.0.0.0\", port=5000, debug=True)"
      ],
      "metadata": {
        "colab": {
          "base_uri": "https://localhost:8080/"
        },
        "id": "hzk8DP8GM97Q",
        "outputId": "01d5fca4-3b20-4b2c-d569-d4f9a3b91447"
      },
      "execution_count": null,
      "outputs": [
        {
          "output_type": "stream",
          "name": "stdout",
          "text": [
            " * Serving Flask app '__main__'\n",
            " * Debug mode: on\n"
          ]
        },
        {
          "output_type": "stream",
          "name": "stderr",
          "text": [
            "INFO:werkzeug:\u001b[31m\u001b[1mWARNING: This is a development server. Do not use it in a production deployment. Use a production WSGI server instead.\u001b[0m\n",
            " * Running on all addresses (0.0.0.0)\n",
            " * Running on http://127.0.0.1:5000\n",
            " * Running on http://172.28.0.12:5000\n",
            "INFO:werkzeug:\u001b[33mPress CTRL+C to quit\u001b[0m\n",
            "INFO:werkzeug: * Restarting with stat\n"
          ]
        }
      ]
    }
  ]
}